{
 "metadata": {
  "language_info": {
   "codemirror_mode": {
    "name": "ipython",
    "version": 3
   },
   "file_extension": ".py",
   "mimetype": "text/x-python",
   "name": "python",
   "nbconvert_exporter": "python",
   "pygments_lexer": "ipython3",
   "version": "3.8.5-final"
  },
  "orig_nbformat": 2,
  "kernelspec": {
   "name": "python3",
   "display_name": "Python 3.8.5 32-bit",
   "metadata": {
    "interpreter": {
     "hash": "77462f22be7f16a175993425fd9ff50328444c376bfe2c440834d379591696e1"
    }
   }
  }
 },
 "nbformat": 4,
 "nbformat_minor": 2,
 "cells": [
  {
   "source": [
    "# Kitty Assignment\n",
    "\n"
   ],
   "cell_type": "markdown",
   "metadata": {}
  },
  {
   "cell_type": "code",
   "execution_count": 1,
   "metadata": {},
   "outputs": [],
   "source": [
    "class Participant:\n",
    "    def __init__(self, name):\n",
    "        self.name = name\n",
    "        self.balance = 0\n",
    "        self.paid = 0\n",
    "        \n",
    "        #Check if not string, convert to string.\n",
    "        if not isinstance(name, str):\n",
    "            name = str(self.name)\n",
    "            print('Name ({0:s}) converted to string format.'.format(name))\n",
    "\n",
    "class Event:\n",
    "    def __init__(self, eventName, participants):\n",
    "        self.eventNamee = eventName\n",
    "        self.participants = participants\n",
    "        self.needsMoney = []\n",
    "        self.owesMoney = []\n",
    "        self.transactionList = []\n",
    "\n",
    "    def add(self, transName, value, ID):\n",
    "        #Catches for invalid values.\n",
    "        if not (isinstance(value, int) or isinstance(value, float)):\n",
    "            print('Transaction value must be a number (integer or float).')\n",
    "            return\n",
    "        if value < 0:\n",
    "            print('Transaction value cannot be negative. It must be >=0.')\n",
    "            return\n",
    "        #Add to transactions if participant in event.\n",
    "        if ID in self.participants:\n",
    "            t = Transaction(self, transName, value, ID)\n",
    "            self.transactionList.append(t)\n",
    "        \n",
    "        else:\n",
    "            print('Individual must be participating in the event in order to pay for a transaction.')\n",
    "    \n",
    "    def reconcile(self):\n",
    "        #Calculate total cost of transactions and cost per-person.\n",
    "        total_cost = 0\n",
    "        for trans in self.transactionList:\n",
    "            total_cost += trans.value\n",
    "        participants = self.participants\n",
    "        perPerson = total_cost/len(participants)\n",
    "        print('Total: €{0:.2f}, that is €{1:.2f} each. \\n'.format(total_cost,perPerson))\n",
    "        #Calculate balances - who is owesMoeny and who is needsMoney.\n",
    "        self.needsMoney = []\n",
    "        self.owesMoney = []\n",
    "        for parts in participants:\n",
    "            parts.balance = parts.paid - perPerson\n",
    "            if parts.balance < 0:\n",
    "                self.owesMoney.append(parts)\n",
    "            else:\n",
    "                self.needsMoney.append(parts)\n",
    "            print('{0:s} has balance €{1:.2f}'.format(parts.name, parts.balance))\n",
    "        print()\n",
    "        #Reconciling payments between owesMoney and needsMoney.\n",
    "        for owes in self.owesMoney:\n",
    "            for needs in self.needsMoney:\n",
    "                #needsMoney still requires balance (eliminates pointless loops).\n",
    "                if needs.balance != 0:\n",
    "                    #owesMoney can cover debt of needsMoney -> needsMoney balanced.\n",
    "                    if -owes.balance >= needs.balance:\n",
    "                        pay = needs.balance\n",
    "                        owes.balance += needs.balance\n",
    "                        needs.balance = 0\n",
    "                        print('{0:s} pays {1:s} €{2:.2f}'.format(owes.name, needs.name, pay))\n",
    "                    #owesMoney can't cover debt -> owesMoney balanced. Break loop and check next owesMoney.\n",
    "                    else:\n",
    "                        pay = -owes.balance\n",
    "                        needs.balance += owes.balance\n",
    "                        owes.balance = 0\n",
    "                        print('{0:s} pays {1:s} €{2:.2f}'.format(owes.name, needs.name, pay))\n",
    "                        break\n",
    "\n",
    "class Transaction:\n",
    "    def __init__(self, transName, eventName, value, ID):\n",
    "        self.transName = transName\n",
    "        self.value = value\n",
    "        self.ID = ID\n",
    "        self.eventName = eventName\n",
    "        self.ID.paid += value\n"
   ]
  },
  {
   "source": [
    "# Here are the sample runs from the assignment document, following the input structure given last week:"
   ],
   "cell_type": "markdown",
   "metadata": {}
  },
  {
   "source": [
    "## Sample 1\n",
    "\n",
    "Annie, Sally & Bill are going to a concert.\n",
    "\n",
    "    - Annie paid for the tickets: €180.\n",
    "    - Sally paid for dinner: €75.\n",
    "    - Bill paid for drinks after: €19.\n",
    "    - Bill paid for the taxi: €16.\n"
   ],
   "cell_type": "markdown",
   "metadata": {}
  },
  {
   "cell_type": "code",
   "execution_count": 2,
   "metadata": {},
   "outputs": [],
   "source": [
    "Annie = Participant('Annie')\n",
    "Bill = Participant('Bill')\n",
    "Sally = Participant('Sally')"
   ]
  },
  {
   "cell_type": "code",
   "execution_count": 3,
   "metadata": {},
   "outputs": [],
   "source": [
    "concert = Event('Madonna', [Annie, Bill, Sally])"
   ]
  },
  {
   "cell_type": "code",
   "execution_count": 4,
   "metadata": {},
   "outputs": [
    {
     "output_type": "stream",
     "name": "stdout",
     "text": [
      "Total: €290.00, that is €96.67 each. \n\nAnnie has balance €83.33\nBill has balance €-61.67\nSally has balance €-21.67\n\nBill pays Annie €61.67\nSally pays Annie €21.67\n"
     ]
    }
   ],
   "source": [
    "concert.add('Tickets', 180, Annie)\n",
    "concert.add('Dinner', 75, Sally)\n",
    "concert.add('Drinks', 19, Bill)\n",
    "concert.add('Taxi', 16, Bill)\n",
    "\n",
    "concert.reconcile()"
   ]
  },
  {
   "source": [
    "## Sample 2\n",
    "\n",
    "Cathy, Robin & Jen are going to the cinema.\n",
    "\n",
    "    - Cathy paid for the tickets: €33.\n",
    "    - Robin paid for dinner: €60.\n",
    "    - Jen paid for drinks after: €21.\n",
    "    - Jen paid for the taxi: €27.\n",
    "    "
   ],
   "cell_type": "markdown",
   "metadata": {}
  },
  {
   "cell_type": "code",
   "execution_count": 5,
   "metadata": {},
   "outputs": [],
   "source": [
    "Cathy = Participant('Cathy')\n",
    "Robin = Participant('Robin')\n",
    "Jen = Participant('Jen')"
   ]
  },
  {
   "cell_type": "code",
   "execution_count": 6,
   "metadata": {},
   "outputs": [],
   "source": [
    "cinema = Event('Star Wars', [Cathy, Robin, Jen])"
   ]
  },
  {
   "cell_type": "code",
   "execution_count": 7,
   "metadata": {},
   "outputs": [
    {
     "output_type": "stream",
     "name": "stdout",
     "text": [
      "Total: €141.00, that is €47.00 each. \n\nCathy has balance €-14.00\nRobin has balance €13.00\nJen has balance €1.00\n\nCathy pays Robin €13.00\nCathy pays Jen €1.00\n"
     ]
    }
   ],
   "source": [
    "cinema.add('Tickets',33,Cathy)\n",
    "cinema.add('Dinner',60,Robin)\n",
    "cinema.add('Drinks',21,Jen)\n",
    "cinema.add('Taxi',27,Jen)\n",
    "\n",
    "cinema.reconcile()"
   ]
  },
  {
   "source": [
    "## Sample 3\n",
    "\n",
    "Nora, Eva, Frankie & Harry go away for the weekend.\n",
    "\n",
    "    - Nora pays for dinner on Friday: €110.\n",
    "    - Eva pays for lunch on Saturday: €60.\n",
    "    - Frankie paid for dinner: €125.\n",
    "    - Harry paid for lunch on Sunday: €70.\n"
   ],
   "cell_type": "markdown",
   "metadata": {}
  },
  {
   "cell_type": "code",
   "execution_count": 8,
   "metadata": {},
   "outputs": [],
   "source": [
    "Nora = Participant('Nora')\n",
    "Eva = Participant('Eva')\n",
    "Frankie = Participant('Frankie')\n",
    "Harry = Participant('Harry')"
   ]
  },
  {
   "cell_type": "code",
   "execution_count": 9,
   "metadata": {},
   "outputs": [],
   "source": [
    "weekend = Event('holiday', [Nora, Eva, Frankie, Harry])"
   ]
  },
  {
   "cell_type": "code",
   "execution_count": 10,
   "metadata": {},
   "outputs": [
    {
     "output_type": "stream",
     "name": "stdout",
     "text": [
      "Total: €365.00, that is €91.25 each. \n\nNora has balance €18.75\nEva has balance €-31.25\nFrankie has balance €33.75\nHarry has balance €-21.25\n\nEva pays Nora €18.75\nEva pays Frankie €12.50\nHarry pays Frankie €21.25\n"
     ]
    }
   ],
   "source": [
    "weekend.add('friDinner',110,Nora)\n",
    "weekend.add('satLunch',60,Eva)\n",
    "weekend.add('satDinner',125,Frankie)\n",
    "weekend.add('sunLunch',70,Harry)\n",
    "\n",
    "weekend.reconcile()"
   ]
  },
  {
   "source": [
    "# Here are some examples of the program catching invalid data:"
   ],
   "cell_type": "markdown",
   "metadata": {}
  },
  {
   "cell_type": "code",
   "execution_count": 11,
   "metadata": {},
   "outputs": [
    {
     "output_type": "stream",
     "name": "stdout",
     "text": [
      "Name (1) converted to string format.\n"
     ]
    }
   ],
   "source": [
    "example = Participant(1)"
   ]
  },
  {
   "cell_type": "code",
   "execution_count": 12,
   "metadata": {},
   "outputs": [
    {
     "output_type": "stream",
     "name": "stdout",
     "text": [
      "Transaction value must be a number (integer or float).\n"
     ]
    }
   ],
   "source": [
    "concert.add('Example','Not an integer',Annie)"
   ]
  },
  {
   "cell_type": "code",
   "execution_count": 13,
   "metadata": {},
   "outputs": [
    {
     "output_type": "stream",
     "name": "stdout",
     "text": [
      "Transaction value cannot be negative. It must be >=0.\n"
     ]
    }
   ],
   "source": [
    "concert.add('Example',-10,Annie)"
   ]
  },
  {
   "cell_type": "code",
   "execution_count": 14,
   "metadata": {},
   "outputs": [
    {
     "output_type": "stream",
     "name": "stdout",
     "text": [
      "Individual must be participating in the event in order to pay for a transaction.\n"
     ]
    }
   ],
   "source": [
    "Bob = Participant('Bob')\n",
    "concert.add('Example',10,Bob)"
   ]
  }
 ]
}